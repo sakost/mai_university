{
 "cells": [
  {
   "cell_type": "markdown",
   "id": "approximate-smell",
   "metadata": {},
   "source": [
    "Системы аналитических вычислений.\n",
    "\n",
    "Лабораторная работа №2.\n",
    "\n",
    "Студент: Саженов К.С., М8О-208Б-19\n",
    "\n",
    "Работа была выполнена 13.03.2021 в 3:20"
   ]
  },
  {
   "cell_type": "markdown",
   "id": "starting-anaheim",
   "metadata": {},
   "source": [
    "# Задание 1\n",
    "### Вариант Б:\n",
    "Метод прямоугольников и трапеций:\n",
    "1. Реализовать функции вычисления интеграла методом прямоугольников и методом трапеции\n",
    "1. Сделать ползунки для перебора значений входных параметров\n",
    "1. Сделать вывод кадров поэтапного нахождения решения и офомрить их через список графиков\n",
    "1. Сравнить полученный результат с результатом встроенной функции вычисления интегралов - `numerical_integral()`"
   ]
  },
  {
   "cell_type": "markdown",
   "id": "cardiovascular-fight",
   "metadata": {},
   "source": [
    "Функция:"
   ]
  },
  {
   "cell_type": "code",
   "execution_count": 1,
   "id": "fifty-analysis",
   "metadata": {},
   "outputs": [
    {
     "data": {
      "text/html": [
       "<html><script type=\"math/tex; mode=display\">\\newcommand{\\Bold}[1]{\\mathbf{#1}}\\frac{\\log\\left(x - 2\\right) + 1}{x - 2}</script></html>"
      ],
      "text/latex": [
       "\\begin{math}\n",
       "\\newcommand{\\Bold}[1]{\\mathbf{#1}}\\frac{\\log\\left(x - 2\\right) + 1}{x - 2}\n",
       "\\end{math}"
      ],
      "text/plain": [
       "(log(x - 2) + 1)/(x - 2)"
      ]
     },
     "metadata": {},
     "output_type": "display_data"
    }
   ],
   "source": [
    "y(x) = (ln(x-2) + 1) / (x-2)\n",
    "show(y(x))"
   ]
  },
  {
   "cell_type": "markdown",
   "id": "featured-converter",
   "metadata": {},
   "source": [
    "График функции:"
   ]
  },
  {
   "cell_type": "code",
   "execution_count": 2,
   "id": "august-begin",
   "metadata": {},
   "outputs": [
    {
     "data": {
      "image/png": "[encoded data removed]",
      "text/plain": [
       "Graphics object consisting of 1 graphics primitive"
      ]
     },
     "execution_count": 2,
     "metadata": {},
     "output_type": "execute_result"
    }
   ],
   "source": [
    "plot(y, (2.3, 11), axes_labels=['$x$', '$y$'], title=f'${latex(y(x))}$', frame=True, fontsize=14)"
   ]
  },
  {
   "cell_type": "markdown",
   "id": "enhanced-evaluation",
   "metadata": {},
   "source": [
    "## Функция вычисления интеграла методом прямоугольников"
   ]
  },
  {
   "cell_type": "code",
   "execution_count": 3,
   "id": "improved-holder",
   "metadata": {},
   "outputs": [],
   "source": [
    "import numpy as np\n",
    "def rectangles_method(func, func_range, steps_count, need_plot = False):\n",
    "    from_, to = func_range\n",
    "    assert steps_count > 0\n",
    "    assert to > from_\n",
    "    \n",
    "    step = (to - from_) / steps_count\n",
    "    approximations = []\n",
    "    intermediate_plot = plot(func, (from_, to))\n",
    "    approximations.append(intermediate_plot)\n",
    "    res = 0\n",
    "    \n",
    "    for i, x0 in enumerate(np.linspace(from_, to, steps_count), 1):\n",
    "        fy = func(x0)\n",
    "        cur_y = fy * step\n",
    "        res += fy\n",
    "\n",
    "        rectangle_approximation = line(matrix([\n",
    "            [x0 + step, 0],\n",
    "            [x0 + step, fy],\n",
    "            [x0, fy],\n",
    "            [x0, 0]\n",
    "        ]), color = 'red')\n",
    "        txt = text(f'$step={i}, current={float(cur_y):.6f}, result={float(res*step):.6f}$', (from_+2, -1), fontsize=12, color=\"black\")\n",
    "        intermediate_plot += plot(rectangle_approximation)\n",
    "        approximations.append(intermediate_plot+txt)\n",
    "    if need_plot:\n",
    "        graphics_array(approximations, len(approximations)//2+1, 2).show(figsize=[15, 15],  ymin=0, ymax=1.5, xmin=from_-2*step, xmax=to+2*step)\n",
    "    return res*step"
   ]
  },
  {
   "cell_type": "markdown",
   "id": "removable-migration",
   "metadata": {},
   "source": [
    "Ползунки и прочие виджеты для удобной визуализации:"
   ]
  },
  {
   "cell_type": "code",
   "execution_count": 4,
   "id": "previous-stanley",
   "metadata": {},
   "outputs": [
    {
     "data": {
      "application/vnd.jupyter.widget-view+json": {
       "model_id": "10d38b09091e4b8c8a8f868898d8a437",
       "version_major": 2,
       "version_minor": 0
      },
      "text/plain": [
       "Interactive function <function rectangles_method at 0x7f2861bcb5e0> with 2 widgets\n",
       "  func_range: FloatRangeSli…"
      ]
     },
     "metadata": {},
     "output_type": "display_data"
    }
   ],
   "source": [
    "import ipywidgets as widgets\n",
    "\n",
    "steps_count_widget = widgets.IntSlider(min=1, max=21, step=2, continuous_update=False, description='steps count', value=3)\n",
    "\n",
    "range_slider = widgets.FloatRangeSlider(\n",
    "    value=[2.5, 7],\n",
    "    min=2.5,\n",
    "    max=20,\n",
    "    step=0.25,\n",
    "    description='Range for function:',\n",
    "    disabled=False,\n",
    "    continuous_update=False,\n",
    "    orientation='horizontal',\n",
    "    readout=True,\n",
    "    readout_format='.1f',\n",
    ")\n",
    "\n",
    "\n",
    "interact(rectangles_method, func=widgets.fixed(y), func_range=range_slider, steps_count=steps_count_widget, need_plot=widgets.fixed(True));"
   ]
  },
  {
   "cell_type": "markdown",
   "id": "burning-glucose",
   "metadata": {},
   "source": [
    "### Сравнение результата вычисления интеграла алгоритмом(методом) прямоугольников с результатом вычисления интеграла встроенной функцией:"
   ]
  },
  {
   "cell_type": "code",
   "execution_count": 5,
   "id": "industrial-worst",
   "metadata": {},
   "outputs": [
    {
     "data": {
      "application/vnd.jupyter.widget-view+json": {
       "model_id": "4442c2257ed3456a9c3cbe84a50a69a4",
       "version_major": 2,
       "version_minor": 0
      },
      "text/plain": [
       "Interactive function <function _ at 0x7f2855e4df70> with 2 widgets\n",
       "  func_range: FloatRangeSlider(value=(2.5, …"
      ]
     },
     "metadata": {},
     "output_type": "display_data"
    },
    {
     "data": {
      "application/vnd.jupyter.widget-view+json": {
       "model_id": "a2a7c20c6a024a17a55457eb66982d47",
       "version_major": 2,
       "version_minor": 0
      },
      "text/plain": [
       "HBox(children=(VBox(children=(Label(value='True value: 3.3575037830250625($\\\\pm$3.72757800518049e-14)'), Label…"
      ]
     },
     "metadata": {},
     "output_type": "display_data"
    }
   ],
   "source": [
    "import ipywidgets as widgets\n",
    "from IPython.display import display\n",
    "\n",
    "steps_count_widget = widgets.IntSlider(min=1, max=21, step=2, continuous_update=False, description='Steps count')\n",
    "range_slider = widgets.FloatRangeSlider(\n",
    "    value=[2.5, 7],\n",
    "    min=2.5,\n",
    "    max=20,\n",
    "    step=0.25,\n",
    "    description='Range:',\n",
    "    disabled=False,\n",
    "    continuous_update=False,\n",
    "    orientation='horizontal',\n",
    "    readout=True,\n",
    "    readout_format='.1f',\n",
    ")\n",
    "\n",
    "\n",
    "\n",
    "true_label_widget = widgets.Label(value='0')\n",
    "my_label_widget = widgets.Label(value='0')\n",
    "diff_label_widget = widgets.Label(value='0')\n",
    "\n",
    "vbox = widgets.VBox([true_label_widget, my_label_widget, diff_label_widget])\n",
    "# vbox2 = widgets.VBox([steps_count_widget, range_slider])\n",
    "\n",
    "hbox = widgets.HBox([vbox])\n",
    "\n",
    "@interact\n",
    "def _(func=widgets.fixed(y), func_range=range_slider, steps_count=steps_count_widget, need_plot=widgets.fixed(False)):\n",
    "    my_res = rectangles_method(func, range_slider.value, steps_count, need_plot)\n",
    "    x1, x2 = func_range\n",
    "    value, err = numerical_integral(func, x1, x2)\n",
    "    true_label_widget.value = f'True value: {value}($\\\\pm${err})'\n",
    "    my_label_widget.value = f'Rectangle method: {my_res}'\n",
    "    diff_label_widget.value = f'Difference: {abs(value-my_res)}'\n",
    "display(hbox)"
   ]
  },
  {
   "cell_type": "markdown",
   "id": "quiet-hardware",
   "metadata": {},
   "source": [
    "## Метод трапеций:"
   ]
  },
  {
   "cell_type": "code",
   "execution_count": 6,
   "id": "preceding-distributor",
   "metadata": {},
   "outputs": [],
   "source": [
    "def trapezoids_method(func, func_range, steps_count, need_plot = False):\n",
    "    from_, to = func_range\n",
    "    assert steps_count > 0\n",
    "    assert to > from_\n",
    "    \n",
    "    step = (to - from_) / steps_count\n",
    "    approximations = []\n",
    "    intermediate_plot = plot(func, (from_, to))\n",
    "    approximations.append(intermediate_plot)\n",
    "    res = 0\n",
    "    \n",
    "    for i, x0 in enumerate(np.linspace(from_, to, steps_count), 1):\n",
    "        fy1 = func(x0)\n",
    "        fy2 = func(x0 + step)\n",
    "        cur_y = ((fy1 + fy2) / 2)\n",
    "        res += cur_y\n",
    "        cur_y *= step\n",
    "\n",
    "        rectangle_approximation = line(matrix([\n",
    "            [x0 + step, 0],\n",
    "            [x0 + step, fy2],\n",
    "            [x0, fy1],\n",
    "            [x0, 0]\n",
    "        ]), color = 'red')\n",
    "        txt = text(f'$step={i}, current={float(cur_y):.6f}, result={float(res*step):.6f}$', (from_+2, -1), fontsize=12, color=\"black\")\n",
    "        intermediate_plot += plot(rectangle_approximation)\n",
    "        approximations.append(intermediate_plot+txt)\n",
    "    if need_plot:\n",
    "        graphics_array(approximations, len(approximations)//2+1, 2).show(figsize=[15, 15],  ymin=0, ymax=1.5, xmin=from_-2*step, xmax=to+2*step)\n",
    "    return res*step"
   ]
  },
  {
   "cell_type": "markdown",
   "id": "interior-genesis",
   "metadata": {},
   "source": [
    "Аналогичная визуализация, как и в методе прямоугольников:"
   ]
  },
  {
   "cell_type": "code",
   "execution_count": 7,
   "id": "reliable-insulation",
   "metadata": {},
   "outputs": [
    {
     "data": {
      "application/vnd.jupyter.widget-view+json": {
       "model_id": "4f53d187dcc649bc841840dfea187a44",
       "version_major": 2,
       "version_minor": 0
      },
      "text/plain": [
       "Interactive function <function trapezoids_method at 0x7fde815ab820> with 2 widgets\n",
       "  func_range: FloatRangeSli…"
      ]
     },
     "metadata": {},
     "output_type": "display_data"
    }
   ],
   "source": [
    "import ipywidgets as widgets\n",
    "\n",
    "steps_count_widget = widgets.IntSlider(min=1, max=21, step=2, continuous_update=False, description='steps count', value=3)\n",
    "\n",
    "range_slider = widgets.FloatRangeSlider(\n",
    "    value=[2.5, 7],\n",
    "    min=2.5,\n",
    "    max=20,\n",
    "    step=0.25,\n",
    "    description='Range for function:',\n",
    "    disabled=False,\n",
    "    continuous_update=False,\n",
    "    orientation='horizontal',\n",
    "    readout=True,\n",
    "    readout_format='.1f',\n",
    ")\n",
    "\n",
    "\n",
    "interact(trapezoids_method, func=widgets.fixed(y), func_range=range_slider, steps_count=steps_count_widget, need_plot=widgets.fixed(True));"
   ]
  },
  {
   "cell_type": "markdown",
   "id": "accessible-elder",
   "metadata": {},
   "source": [
    "### Аналогичное сравнение с результатом встроенной функции вычисления интеграла:"
   ]
  },
  {
   "cell_type": "code",
   "execution_count": 8,
   "id": "selective-scheduling",
   "metadata": {},
   "outputs": [
    {
     "data": {
      "application/vnd.jupyter.widget-view+json": {
       "model_id": "71a16d5141b44585a0e00ab9d013f495",
       "version_major": 2,
       "version_minor": 0
      },
      "text/plain": [
       "Interactive function <function _ at 0x7fde815ab040> with 2 widgets\n",
       "  func_range: FloatRangeSlider(value=(2.5, …"
      ]
     },
     "metadata": {},
     "output_type": "display_data"
    },
    {
     "data": {
      "application/vnd.jupyter.widget-view+json": {
       "model_id": "c71b7cbd62af4229b30cfc68d6f02f43",
       "version_major": 2,
       "version_minor": 0
      },
      "text/plain": [
       "HBox(children=(VBox(children=(Label(value='True value: 3.3575037830250625($\\\\pm$3.72757800518049e-14)'), Label…"
      ]
     },
     "metadata": {},
     "output_type": "display_data"
    }
   ],
   "source": [
    "\n",
    "steps_count_widget = widgets.IntSlider(min=1, max=21, step=2, continuous_update=False, description='Steps count:')\n",
    "range_slider = widgets.FloatRangeSlider(\n",
    "    value=[2.5, 7],\n",
    "    min=2.5,\n",
    "    max=20,\n",
    "    step=0.25,\n",
    "    description='Range:',\n",
    "    disabled=False,\n",
    "    continuous_update=False,\n",
    "    orientation='horizontal',\n",
    "    readout=True,\n",
    "    readout_format='.1f',\n",
    ")\n",
    "\n",
    "\n",
    "\n",
    "true_label_widget = widgets.Label(value='0')\n",
    "my_label_widget = widgets.Label(value='0')\n",
    "diff_label_widget = widgets.Label(value='0')\n",
    "\n",
    "vbox = widgets.VBox([true_label_widget, my_label_widget, diff_label_widget])\n",
    "# vbox2 = widgets.VBox([steps_count_widget, range_slider])\n",
    "\n",
    "hbox = widgets.HBox([vbox])\n",
    "\n",
    "@interact\n",
    "def _(func=widgets.fixed(y), func_range=range_slider, steps_count=steps_count_widget, need_plot=widgets.fixed(False)):\n",
    "    my_res = trapezoids_method(func, range_slider.value, steps_count, need_plot)\n",
    "    x1, x2 = func_range\n",
    "    value, err = numerical_integral(func, x1, x2)\n",
    "    true_label_widget.value = f'True value: {value}($\\\\pm${err})'\n",
    "    my_label_widget.value = f'Rectangle method: {my_res}'\n",
    "    diff_label_widget.value = f'Difference: {abs(value-my_res)}'\n",
    "display(hbox)"
   ]
  },
  {
   "cell_type": "markdown",
   "id": "charged-swing",
   "metadata": {},
   "source": [
    "> Погрешность обоих методов меняется в зависимости от размера шага и является незначительной в данном контексте"
   ]
  },
  {
   "cell_type": "markdown",
   "id": "radical-speaking",
   "metadata": {},
   "source": [
    "# Задание 2 - gcd\n",
    "1. Реализовать расширенный gcd\n",
    "1. Вычислить gcd и сравнить его с результатом функции `gcd`\n",
    "1. Получить представление gcd в виде $u*f + v*g$(Bézout's identity)"
   ]
  },
  {
   "cell_type": "markdown",
   "id": "friendly-sandwich",
   "metadata": {},
   "source": [
    "#### 2 вариант:\n",
    "* $f = 5x^4 - 15x^3 +15x^2 - 5x$\n",
    "* $g = -22x^5 + 33x^4 - 11x^3 - 99x + 99$"
   ]
  },
  {
   "cell_type": "code",
   "execution_count": 9,
   "id": "close-frank",
   "metadata": {},
   "outputs": [
    {
     "data": {
      "text/html": [
       "<html><script type=\"math/tex; mode=display\">\\newcommand{\\Bold}[1]{\\mathbf{#1}}5 x^{4} - 15 x^{3} + 15 x^{2} - 5 x</script></html>"
      ],
      "text/latex": [
       "\\begin{math}\n",
       "\\newcommand{\\Bold}[1]{\\mathbf{#1}}5 x^{4} - 15 x^{3} + 15 x^{2} - 5 x\n",
       "\\end{math}"
      ],
      "text/plain": [
       "5*x^4 - 15*x^3 + 15*x^2 - 5*x"
      ]
     },
     "metadata": {},
     "output_type": "display_data"
    },
    {
     "data": {
      "text/html": [
       "<html><script type=\"math/tex; mode=display\">\\newcommand{\\Bold}[1]{\\mathbf{#1}}-22 x^{5} + 33 x^{4} - 11 x^{3} - 99 x + 99</script></html>"
      ],
      "text/latex": [
       "\\begin{math}\n",
       "\\newcommand{\\Bold}[1]{\\mathbf{#1}}-22 x^{5} + 33 x^{4} - 11 x^{3} - 99 x + 99\n",
       "\\end{math}"
      ],
      "text/plain": [
       "-22*x^5 + 33*x^4 - 11*x^3 - 99*x + 99"
      ]
     },
     "metadata": {},
     "output_type": "display_data"
    }
   ],
   "source": [
    "R.<x> = PolynomialRing(QQ)\n",
    "f = 5*x^4 - 15*x^3 + 15*x^2 - 5*x\n",
    "g = -22*x^5 + 33*x^4 - 11*x^3 - 99*x + 99\n",
    "\n",
    "show(f)\n",
    "show(g)"
   ]
  },
  {
   "cell_type": "markdown",
   "id": "strategic-topic",
   "metadata": {},
   "source": [
    "Функция, вычисляющая расширенный gcd:"
   ]
  },
  {
   "cell_type": "code",
   "execution_count": 10,
   "id": "broke-starter",
   "metadata": {},
   "outputs": [],
   "source": [
    "def extended_gcd(a, b):\n",
    "    if b < a:\n",
    "        b, a = a, b\n",
    "    if not a:\n",
    "        return 0, 1, b\n",
    "    \n",
    "    x1, y1, d = extended_gcd(b%a, a)\n",
    "    x = y1 - (b // a) * x1\n",
    "    y = x1\n",
    "    return x, y, d"
   ]
  },
  {
   "cell_type": "code",
   "execution_count": 11,
   "id": "technical-senate",
   "metadata": {},
   "outputs": [
    {
     "name": "stdout",
     "output_type": "stream",
     "text": [
      "gcd of f and g = -6336/49*x + 6336/49\n",
      "u = -352/175*x^3 - 1936/1225*x^2 + 4752/1225*x + 1584/245\n",
      "v = -16/35*x^2 + 16/49*x + 64/49\n"
     ]
    }
   ],
   "source": [
    "u, v, res = extended_gcd(f, g)\n",
    "print(f'gcd of f and g = {res}')\n",
    "print(f'u = {u(x)}')\n",
    "print(f'v = {v(x)}')"
   ]
  },
  {
   "cell_type": "markdown",
   "id": "signal-diana",
   "metadata": {},
   "source": [
    "Найдем gcd с помощью встроенной функции `gcd`:"
   ]
  },
  {
   "cell_type": "code",
   "execution_count": 12,
   "id": "golden-holmes",
   "metadata": {},
   "outputs": [],
   "source": [
    "inner_res = gcd(f, g)"
   ]
  },
  {
   "cell_type": "markdown",
   "id": "dated-practitioner",
   "metadata": {},
   "source": [
    "Найдем $k$(если оно будет числом, значит мы верно определили алгоритм gcd):"
   ]
  },
  {
   "cell_type": "code",
   "execution_count": 13,
   "id": "elementary-sample",
   "metadata": {},
   "outputs": [
    {
     "data": {
      "text/plain": [
       "-49/6336"
      ]
     },
     "execution_count": 13,
     "metadata": {},
     "output_type": "execute_result"
    }
   ],
   "source": [
    "k = inner_res/res\n",
    "k"
   ]
  },
  {
   "cell_type": "markdown",
   "id": "curious-restaurant",
   "metadata": {},
   "source": [
    "> $k$ является числом\n",
    "\n",
    "Следовательно, gcd равен:"
   ]
  },
  {
   "cell_type": "code",
   "execution_count": 14,
   "id": "grateful-being",
   "metadata": {},
   "outputs": [
    {
     "data": {
      "text/plain": [
       "x - 1"
      ]
     },
     "execution_count": 14,
     "metadata": {},
     "output_type": "execute_result"
    }
   ],
   "source": [
    "res*k"
   ]
  },
  {
   "cell_type": "markdown",
   "id": "adopted-fairy",
   "metadata": {},
   "source": [
    "Теперь ищем коэффециенты разложения Безу:"
   ]
  },
  {
   "cell_type": "code",
   "execution_count": 15,
   "id": "headed-clearing",
   "metadata": {},
   "outputs": [],
   "source": [
    "k1 = res * k\n",
    "k2 = u * k\n",
    "k3 = v* k"
   ]
  },
  {
   "cell_type": "code",
   "execution_count": 16,
   "id": "behind-crack",
   "metadata": {},
   "outputs": [
    {
     "data": {
      "text/plain": [
       "x - 1"
      ]
     },
     "execution_count": 16,
     "metadata": {},
     "output_type": "execute_result"
    }
   ],
   "source": [
    "k2 * f + k3 * g"
   ]
  },
  {
   "cell_type": "markdown",
   "id": "lined-parcel",
   "metadata": {},
   "source": [
    "> gcd совпал с результатом выше, что означает, что найденные коеффициенты верны и алгоритм работает корректно."
   ]
  }
 ],
 "metadata": {
  "kernelspec": {
   "display_name": "SageMath 9.2",
   "language": "sage",
   "name": "sagemath"
  },
  "language_info": {
   "codemirror_mode": {
    "name": "ipython",
    "version": 3
   },
   "file_extension": ".py",
   "mimetype": "text/x-python",
   "name": "python",
   "nbconvert_exporter": "python",
   "pygments_lexer": "ipython3",
   "version": "3.9.1"
  }
 },
 "nbformat": 4,
 "nbformat_minor": 5
}
